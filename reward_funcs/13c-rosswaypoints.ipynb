{
 "cells": [
  {
   "cell_type": "markdown",
   "id": "b7d0cea8",
   "metadata": {},
   "source": [
    "    \"all_wheels_on_track\": Boolean,        # flag to indicate if the agent is on the track\n",
    "    \"x\": float,                            # agent's x-coordinate in meters\n",
    "    \"y\": float,                            # agent's y-coordinate in meters\n",
    "    \"closest_objects\": [int, int],         # zero-based indices of the two closest objects to the agent's current position of (x, y).\n",
    "    \"closest_waypoints\": [int, int],       # indices of the two nearest waypoints.\n",
    "    \"distance_from_center\": float,         # distance in meters from the track center \n",
    "    \"is_crashed\": Boolean,                 # Boolean flag to indicate whether the agent has crashed.\n",
    "    \"is_left_of_center\": Boolean,          # Flag to indicate if the agent is on the left side to the track center or not. \n",
    "    \"is_offtrack\": Boolean,                # Boolean flag to indicate whether the agent has gone off track.\n",
    "    \"is_reversed\": Boolean,                # flag to indicate if the agent is driving clockwise (True) or counter clockwise (False).\n",
    "    \"heading\": float,                      # agent's yaw in degrees\n",
    "    \"objects_distance\": [float, ],         # list of the objects' distances in meters between 0 and track_length in relation to the starting line.\n",
    "    \"objects_heading\": [float, ],          # list of the objects' headings in degrees between -180 and 180.\n",
    "    \"objects_left_of_center\": [Boolean, ], # list of Boolean flags indicating whether elements' objects are left of the center (True) or not (False).\n",
    "    \"objects_location\": [(float, float),], # list of object locations [(x,y), ...].\n",
    "    \"objects_speed\": [float, ],            # list of the objects' speeds in meters per second.\n",
    "    \"progress\": float,                     # percentage of track completed\n",
    "    \"speed\": float,                        # agent's speed in meters per second (m/s)\n",
    "    \"steering_angle\": float,               # agent's steering angle in degrees\n",
    "    \"steps\": int,                          # number steps completed\n",
    "    \"track_length\": float,                 # track length in meters.\n",
    "    \"track_width\": float,                  # width of the track\n",
    "    \"waypoints\": [(float, float), ]        # list of (x,y) as milestones along the track center"
   ]
  },
  {
   "cell_type": "code",
   "execution_count": 1,
   "id": "40c07d1c",
   "metadata": {},
   "outputs": [],
   "source": [
    "import matplotlib.pyplot as plt\n",
    "import numpy as np\n",
    "# 2022_may_open_ccw - Ross Raceway Counter-Clockwise"
   ]
  },
  {
   "cell_type": "code",
   "execution_count": 2,
   "id": "a7562e79",
   "metadata": {},
   "outputs": [],
   "source": [
    "class Ref:\n",
    "    history = {}\n",
    "\n",
    "\n",
    "def reward_function(params):\n",
    "    '''\n",
    "    Reward for making more progress, for example by cutting corners.\n",
    "    For this, the term effective speed has been devised which is computed\n",
    "    based on the progress percentage and the track length. The effective\n",
    "    speed is the speed that it would have been expected to travel at to have\n",
    "    progressed that far around the track.\n",
    "\n",
    "    The progress reward is then computed as the effective speed, but\n",
    "    don't reward if any wheels go off-track at any time during\n",
    "    the previous 20 steps.\n",
    "\n",
    "    Previous trainings used to compute a decent speed for every waypoint\n",
    "    so that car can be rewarded for exceeding that speed.\n",
    "\n",
    "    '''\n",
    "\n",
    "    ross_raceway_speeds = {\n",
    "        \"0\": 2.6364984179,\n",
    "        \"1\": 2.637161077,\n",
    "        \"2\": 2.6422737611,\n",
    "        \"3\": 2.6550014155,\n",
    "        \"4\": 2.6756871042,\n",
    "        \"5\": 2.6877075652,\n",
    "        \"6\": 2.6903692998,\n",
    "        \"7\": 2.6901927863,\n",
    "        \"8\": 2.6857186725,\n",
    "        \"9\": 2.6399676473,\n",
    "        \"10\": 2.6264947993,\n",
    "        \"11\": 2.6140688005,\n",
    "        \"12\": 2.6025159588,\n",
    "        \"13\": 2.5744549686,\n",
    "        \"14\": 2.5210759743,\n",
    "        \"15\": 2.4492826921,\n",
    "        \"16\": 2.3699961472,\n",
    "        \"17\": 2.2873976423,\n",
    "        \"18\": 2.2334689107,\n",
    "        \"19\": 2.1892515899,\n",
    "        \"20\": 2.1684425905,\n",
    "        \"21\": 2.1671728872,\n",
    "        \"22\": 2.1733192677,\n",
    "        \"23\": 2.1902990623,\n",
    "        \"24\": 2.2210844232,\n",
    "        \"25\": 2.2630566854,\n",
    "        \"26\": 2.3160506834,\n",
    "        \"27\": 2.3774298703,\n",
    "        \"28\": 2.4378139788,\n",
    "        \"29\": 2.4961431734,\n",
    "        \"30\": 2.5460333813,\n",
    "        \"31\": 2.5785936171,\n",
    "        \"32\": 2.5928352498,\n",
    "        \"33\": 2.598671694,\n",
    "        \"34\": 2.6435354866,\n",
    "        \"35\": 2.6553840031,\n",
    "        \"36\": 2.6733589428,\n",
    "        \"37\": 2.6890327744,\n",
    "        \"38\": 2.6769048225,\n",
    "        \"39\": 2.6482025158,\n",
    "        \"40\": 2.6247075556,\n",
    "        \"41\": 2.597968289,\n",
    "        \"42\": 2.582996555,\n",
    "        \"43\": 2.5692669217,\n",
    "        \"44\": 2.5605585314,\n",
    "        \"45\": 2.5327414913,\n",
    "        \"46\": 2.4793284219,\n",
    "        \"47\": 2.4220035562,\n",
    "        \"48\": 2.3525475385,\n",
    "        \"49\": 2.2823062757,\n",
    "        \"50\": 2.1959780186,\n",
    "        \"51\": 2.0987909234,\n",
    "        \"52\": 2.0000627519,\n",
    "        \"53\": 1.9124304054,\n",
    "        \"54\": 1.8459456028,\n",
    "        \"55\": 1.8101168387,\n",
    "        \"56\": 1.8133117169,\n",
    "        \"57\": 1.8540347524,\n",
    "        \"58\": 1.9022886052,\n",
    "        \"59\": 1.9736484113,\n",
    "        \"60\": 2.05088696,\n",
    "        \"61\": 2.113266846,\n",
    "        \"62\": 2.1766026303,\n",
    "        \"63\": 2.2292015913,\n",
    "        \"64\": 2.2853654057,\n",
    "        \"65\": 2.3351315374,\n",
    "        \"66\": 2.3528116887,\n",
    "        \"67\": 2.3390526226,\n",
    "        \"68\": 2.2899134041,\n",
    "        \"69\": 2.2022567131,\n",
    "        \"70\": 2.095336872,\n",
    "        \"71\": 1.9950653266,\n",
    "        \"72\": 1.9053955982,\n",
    "        \"73\": 1.7982642599,\n",
    "        \"74\": 1.7177458077,\n",
    "        \"75\": 1.6586223256,\n",
    "        \"76\": 1.6377434736,\n",
    "        \"77\": 1.6505303693,\n",
    "        \"78\": 1.6698798819,\n",
    "        \"79\": 1.7049443505,\n",
    "        \"80\": 1.7570649924,\n",
    "        \"81\": 1.8039671966,\n",
    "        \"82\": 1.8613648873,\n",
    "        \"83\": 1.9265088797,\n",
    "        \"84\": 1.9745952675,\n",
    "        \"85\": 2.030023433,\n",
    "        \"86\": 2.093920043,\n",
    "        \"87\": 2.1521307062,\n",
    "        \"88\": 2.2269623747,\n",
    "        \"89\": 2.2896575127,\n",
    "        \"90\": 2.3446004534,\n",
    "        \"91\": 2.3872549547,\n",
    "        \"92\": 2.4100329784,\n",
    "        \"93\": 2.4134370625,\n",
    "        \"94\": 2.4360778764,\n",
    "        \"95\": 2.4341951346,\n",
    "        \"96\": 2.4158433856,\n",
    "        \"97\": 2.3673528283,\n",
    "        \"98\": 2.2809770983,\n",
    "        \"99\": 2.1694560451,\n",
    "        \"100\": 2.0578144622,\n",
    "        \"101\": 1.9727977071,\n",
    "        \"102\": 1.8991134873,\n",
    "        \"103\": 1.8424257852,\n",
    "        \"104\": 1.8142064344,\n",
    "        \"105\": 1.8051292782,\n",
    "        \"106\": 1.8216641107,\n",
    "        \"107\": 1.8439531421,\n",
    "        \"108\": 1.8613888915,\n",
    "        \"109\": 1.9020264689,\n",
    "        \"110\": 1.9534327978,\n",
    "        \"111\": 2.0215534498,\n",
    "        \"112\": 2.0827327652,\n",
    "        \"113\": 2.1456553799,\n",
    "        \"114\": 2.2116404792,\n",
    "        \"115\": 2.2717606195,\n",
    "        \"116\": 2.3254728013,\n",
    "        \"117\": 2.3723904757,\n",
    "        \"118\": 2.4427129773,\n",
    "        \"119\": 2.4988441838,\n",
    "        \"120\": 2.5516248666,\n",
    "        \"121\": 2.601547805,\n",
    "        \"122\": 2.6335788533,\n",
    "        \"123\": 2.6596399697,\n",
    "        \"124\": 2.6633207201,\n",
    "        \"125\": 2.6774159167,\n",
    "        \"126\": 2.6803200634,\n",
    "        \"127\": 2.7142991784,\n",
    "        \"128\": 2.7236504773,\n",
    "        \"129\": 2.7220678666,\n",
    "        \"130\": 2.7047774461,\n",
    "        \"131\": 2.6685297932,\n",
    "        \"132\": 2.6447420412,\n",
    "        \"133\": 2.624419124,\n",
    "        \"134\": 2.5927544432,\n",
    "        \"135\": 2.5598146036,\n",
    "        \"136\": 2.5001886286,\n",
    "        \"137\": 2.4194867727,\n",
    "        \"138\": 2.3183745182,\n",
    "        \"139\": 2.2332466371,\n",
    "        \"140\": 2.1653388818,\n",
    "        \"141\": 2.1317085032,\n",
    "        \"142\": 2.1042897648,\n",
    "        \"143\": 2.1101667114,\n",
    "        \"144\": 2.1313706092,\n",
    "        \"145\": 2.1602076656,\n",
    "        \"146\": 2.2081076259,\n",
    "        \"147\": 2.2489812259,\n",
    "        \"148\": 2.2999655701,\n",
    "        \"149\": 2.3753784471,\n",
    "        \"150\": 2.4475057923,\n",
    "        \"151\": 2.5130539643,\n",
    "        \"152\": 2.5677369158,\n",
    "        \"153\": 2.6133822371,\n",
    "        \"154\": 2.6320725526,\n",
    "        \"155\": 2.6506730139\n",
    "    }\n",
    "\n",
    "    waypoint_speeds = ross_raceway_speeds\n",
    "    # Read input parameters\n",
    "    progress = params['progress']  # percentage\n",
    "    nsteps = int(params['steps'])  # 1/10 second\n",
    "    track_length = params['track_length']  # metres\n",
    "    all_wheels_on_track = params['all_wheels_on_track']\n",
    "    waypoint = params['closest_waypoints'][1]  # w[0] behind, w[1] in-front\n",
    "\n",
    "    # Setup history\n",
    "    history = Ref.history\n",
    "    if nsteps <= 1:\n",
    "        history.clear()\n",
    "    history[nsteps] = {\n",
    "        'progress': progress,\n",
    "        'all_wheels_on_track': all_wheels_on_track,\n",
    "    }\n",
    "\n",
    "    # Scaling factor for effective speed\n",
    "    scale_fact = 4.0\n",
    "\n",
    "    # If the effective speed is below that from the waypoint list\n",
    "    # by this margin then reward is zero\n",
    "    margin = 0.25\n",
    "\n",
    "    # Timestep assumed for progress computations\n",
    "    steps_per_sec = 15\n",
    "\n",
    "    # effective speed is computed by converting the\n",
    "    # progress into a metres per second value based on the track length\n",
    "    # initialize a default progress reward of 1.0\n",
    "    progress_reward = 1.0  # default\n",
    "    steps_in_history = [i for i in range(nsteps - 20, nsteps)\n",
    "                        if i in history]\n",
    "    if any(not history[i]['all_wheels_on_track'] for i in steps_in_history):\n",
    "        # went off the track\n",
    "        progress_reward = 0.001\n",
    "    else:\n",
    "        if len(steps_in_history) > 0:\n",
    "            waypoint_speed = waypoint_speeds[str(waypoint)]\n",
    "            i = steps_in_history[0]\n",
    "            effective_speed = (\n",
    "                progress - history[i]['progress']\n",
    "            ) * track_length / 100 * steps_per_sec / (nsteps - i)\n",
    "            # Scale the reward to be zero when the effective speed\n",
    "            # is slower than the waypoint speed by more than the margin.\n",
    "            # The scale_fact determines the steepness of the slope.\n",
    "            progress_reward = scale_fact * (\n",
    "                effective_speed - waypoint_speed + margin)\n",
    "            # never negative\n",
    "            progress_reward = max(0.001, progress_reward)\n",
    "\n",
    "    return progress_reward\n"
   ]
  },
  {
   "cell_type": "code",
   "execution_count": 3,
   "id": "6ba6ceeb",
   "metadata": {},
   "outputs": [],
   "source": [
    "def plot_param(xmin, xmax, const_params, param_to_plot, reward_func):\n",
    "    '''\n",
    "    Plot output of the reward function by varying a single input parameter.\n",
    "    \n",
    "    xmin, xmax: range of input\n",
    "    const_params: dict of values defining params to keep constant\n",
    "    param_to_plot: name of parameter to plot\n",
    "    reward_func: reward function matching standard deepracer signature\n",
    "    '''\n",
    "    x = list(np.linspace(xmin, xmax, num=40, dtype='O'))\n",
    "    y = [\n",
    "        reward_function({\n",
    "            **const_params,\n",
    "            param_to_plot: x_val\n",
    "        })\n",
    "        for x_val in x\n",
    "    ]\n",
    "    plt.figure()\n",
    "    plt.plot(x, y, 'o')\n",
    "    plt.grid()\n",
    "    plt.show()"
   ]
  },
  {
   "cell_type": "code",
   "execution_count": 4,
   "id": "7c14f21e",
   "metadata": {},
   "outputs": [
    {
     "data": {
      "image/png": "[encoded data removed]",
      "text/plain": [
       "<Figure size 640x480 with 1 Axes>"
      ]
     },
     "metadata": {},
     "output_type": "display_data"
    }
   ],
   "source": [
    "plot_param(\n",
    "    0,\n",
    "    2.2,\n",
    "    const_params={'track_width': 4.0, 'progress': 22.4, 'steps': 60,\n",
    "                  'track_length': 50, 'all_wheels_on_track': True,\n",
    "                  'closest_waypoints': [10, 11]},\n",
    "    param_to_plot='distance_from_center',\n",
    "    reward_func=reward_function\n",
    ")"
   ]
  },
  {
   "cell_type": "code",
   "execution_count": 5,
   "id": "f719fc45",
   "metadata": {},
   "outputs": [
    {
     "data": {
      "image/png": "[encoded data removed]",
      "text/plain": [
       "<Figure size 640x480 with 1 Axes>"
      ]
     },
     "metadata": {},
     "output_type": "display_data"
    }
   ],
   "source": [
    "const_params={'track_width': 4.0, 'distance_from_center': 0.1,\n",
    "              'track_length': 50, 'all_wheels_on_track': True,\n",
    "              'closest_waypoints': [10, 11]}\n",
    "steps = list(range(30))\n",
    "y = [\n",
    "    reward_function({\n",
    "        **const_params,\n",
    "        'progress': s**1.002 * 2.63/15 * 100/50,\n",
    "        'steps': s,\n",
    "    })\n",
    "    for s in steps\n",
    "]\n",
    "plt.figure()\n",
    "plt.plot(steps, y, 'o')\n",
    "plt.grid()\n",
    "plt.show()"
   ]
  },
  {
   "cell_type": "code",
   "execution_count": 6,
   "id": "798b95d8",
   "metadata": {},
   "outputs": [
    {
     "data": {
      "text/plain": [
       "9.853333333333332"
      ]
     },
     "execution_count": 6,
     "metadata": {},
     "output_type": "execute_result"
    }
   ],
   "source": [
    "(20 * (2.63-0.25) + 10 * 2.63) / 15 * 100/50"
   ]
  },
  {
   "cell_type": "code",
   "execution_count": 7,
   "id": "53338294",
   "metadata": {},
   "outputs": [
    {
     "data": {
      "text/plain": [
       "10.52"
      ]
     },
     "execution_count": 7,
     "metadata": {},
     "output_type": "execute_result"
    }
   ],
   "source": [
    "30 * 2.63 / 15 * 100/50"
   ]
  },
  {
   "cell_type": "code",
   "execution_count": 8,
   "id": "3f4e12e1",
   "metadata": {},
   "outputs": [
    {
     "data": {
      "image/png": "[encoded data removed]",
      "text/plain": [
       "<Figure size 640x480 with 1 Axes>"
      ]
     },
     "metadata": {},
     "output_type": "display_data"
    }
   ],
   "source": [
    "plot_param(\n",
    "    8,\n",
    "    11.2,\n",
    "    const_params={'track_width': 4.0, 'distance_from_center': 0.1,\n",
    "                  'track_length': 50, 'all_wheels_on_track': True,\n",
    "                  'closest_waypoints': [10, 11], 'steps': 30},\n",
    "    param_to_plot='progress',\n",
    "    reward_func=reward_function\n",
    ")"
   ]
  },
  {
   "cell_type": "code",
   "execution_count": 9,
   "id": "71c9692b",
   "metadata": {},
   "outputs": [
    {
     "data": {
      "image/png": "[encoded data removed]",
      "text/plain": [
       "<Figure size 640x480 with 1 Axes>"
      ]
     },
     "metadata": {},
     "output_type": "display_data"
    }
   ],
   "source": [
    "const_params={'track_width': 4.0, 'distance_from_center': 0.1,\n",
    "              'track_length': 50, 'all_wheels_on_track': True,\n",
    "              'progress': 12.5}\n",
    "waypoints = list(range(40, 80))\n",
    "y = [\n",
    "    reward_function({\n",
    "        **const_params,\n",
    "        'closest_waypoints': [w, w + 1],\n",
    "        'steps': 29,\n",
    "    })\n",
    "    for w in waypoints\n",
    "]\n",
    "plt.figure()\n",
    "plt.plot(waypoints, y, 'o')\n",
    "plt.grid()\n",
    "plt.show()"
   ]
  },
  {
   "cell_type": "code",
   "execution_count": 10,
   "id": "0763c5d6",
   "metadata": {},
   "outputs": [
    {
     "data": {
      "image/png": "[encoded data removed]",
      "text/plain": [
       "<Figure size 640x480 with 1 Axes>"
      ]
     },
     "metadata": {},
     "output_type": "display_data"
    }
   ],
   "source": [
    "const_params={'track_width': 4.0, 'distance_from_center': 0.1,\n",
    "              'track_length': 50, 'all_wheels_on_track': True,\n",
    "              'progress': 8.5}\n",
    "waypoints = list(range(40, 80))\n",
    "y = [\n",
    "    reward_function({\n",
    "        **const_params,\n",
    "        'closest_waypoints': [w, w + 1],\n",
    "        'steps': 29,\n",
    "    })\n",
    "    for w in waypoints\n",
    "]\n",
    "plt.figure()\n",
    "plt.plot(waypoints, y, 'o')\n",
    "plt.grid()\n",
    "plt.show()"
   ]
  },
  {
   "cell_type": "code",
   "execution_count": 11,
   "id": "4c116f6b",
   "metadata": {},
   "outputs": [],
   "source": [
    "# make it go off track\n",
    "for i in range(20, 22):\n",
    "    reward_function({\n",
    "        'track_width': 4.0, 'distance_from_center': 0.1,\n",
    "        'track_length': 50, 'all_wheels_on_track': False,\n",
    "        'closest_waypoints': [10, 11], 'steps': i, 'progress': 3\n",
    "    })"
   ]
  }
 ],
 "metadata": {
  "kernelspec": {
   "display_name": "conda_python3",
   "language": "python",
   "name": "conda_python3"
  },
  "language_info": {
   "codemirror_mode": {
    "name": "ipython",
    "version": 3
   },
   "file_extension": ".py",
   "mimetype": "text/x-python",
   "name": "python",
   "nbconvert_exporter": "python",
   "pygments_lexer": "ipython3",
   "version": "3.10.14"
  }
 },
 "nbformat": 4,
 "nbformat_minor": 5
}
