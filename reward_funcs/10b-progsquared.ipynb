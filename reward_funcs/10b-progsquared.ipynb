{
 "cells": [
  {
   "cell_type": "markdown",
   "id": "b7d0cea8",
   "metadata": {},
   "source": [
    "    \"all_wheels_on_track\": Boolean,        # flag to indicate if the agent is on the track\n",
    "    \"x\": float,                            # agent's x-coordinate in meters\n",
    "    \"y\": float,                            # agent's y-coordinate in meters\n",
    "    \"closest_objects\": [int, int],         # zero-based indices of the two closest objects to the agent's current position of (x, y).\n",
    "    \"closest_waypoints\": [int, int],       # indices of the two nearest waypoints.\n",
    "    \"distance_from_center\": float,         # distance in meters from the track center \n",
    "    \"is_crashed\": Boolean,                 # Boolean flag to indicate whether the agent has crashed.\n",
    "    \"is_left_of_center\": Boolean,          # Flag to indicate if the agent is on the left side to the track center or not. \n",
    "    \"is_offtrack\": Boolean,                # Boolean flag to indicate whether the agent has gone off track.\n",
    "    \"is_reversed\": Boolean,                # flag to indicate if the agent is driving clockwise (True) or counter clockwise (False).\n",
    "    \"heading\": float,                      # agent's yaw in degrees\n",
    "    \"objects_distance\": [float, ],         # list of the objects' distances in meters between 0 and track_length in relation to the starting line.\n",
    "    \"objects_heading\": [float, ],          # list of the objects' headings in degrees between -180 and 180.\n",
    "    \"objects_left_of_center\": [Boolean, ], # list of Boolean flags indicating whether elements' objects are left of the center (True) or not (False).\n",
    "    \"objects_location\": [(float, float),], # list of object locations [(x,y), ...].\n",
    "    \"objects_speed\": [float, ],            # list of the objects' speeds in meters per second.\n",
    "    \"progress\": float,                     # percentage of track completed\n",
    "    \"speed\": float,                        # agent's speed in meters per second (m/s)\n",
    "    \"steering_angle\": float,               # agent's steering angle in degrees\n",
    "    \"steps\": int,                          # number steps completed\n",
    "    \"track_length\": float,                 # track length in meters.\n",
    "    \"track_width\": float,                  # width of the track\n",
    "    \"waypoints\": [(float, float), ]        # list of (x,y) as milestones along the track center"
   ]
  },
  {
   "cell_type": "code",
   "execution_count": 1,
   "id": "40c07d1c",
   "metadata": {},
   "outputs": [],
   "source": [
    "import matplotlib.pyplot as plt\n",
    "import numpy as np\n",
    "# 2022_may_open_ccw - Ross Raceway Counter-Clockwise"
   ]
  },
  {
   "cell_type": "code",
   "execution_count": 2,
   "id": "a7562e79",
   "metadata": {},
   "outputs": [],
   "source": [
    "class Ref:\n",
    "    history = {}\n",
    "\n",
    "\n",
    "def reward_function(params):\n",
    "    '''\n",
    "    Reward for staying close to centre line. Centreline reward\n",
    "    to have an s-shaped curve based on logistic function.\n",
    "\n",
    "    Reward for making more progress per step, for example\n",
    "    by cutting corners, as compared to its progress 10 steps ago,\n",
    "    but don't reward if it goes off track. Reward per step increases\n",
    "    in a non-linear upward curve, so that if the track is completed\n",
    "    faster, and thus uses fewer steps, the reward is greater.\n",
    "\n",
    "    The centre and progress are multiplied together.\n",
    "\n",
    "    '''\n",
    "\n",
    "    const_e = 2.718281828\n",
    "\n",
    "    # Read input parameters\n",
    "    track_width = params['track_width']\n",
    "    distance_from_center = params['distance_from_center']\n",
    "    progress = params['progress']  # percentage\n",
    "    nsteps = int(params['steps'])  # 1/10 second\n",
    "    track_length = params['track_length']  # metres\n",
    "    all_wheels_on_track = params['all_wheels_on_track']\n",
    "    speed = params['speed']  # metres per second\n",
    "\n",
    "    # Setup history\n",
    "    history = Ref.history\n",
    "    if nsteps <= 1:\n",
    "        history.clear()\n",
    "    history[nsteps] = {\n",
    "        'progress': progress,\n",
    "        'all_wheels_on_track': all_wheels_on_track\n",
    "    }\n",
    "\n",
    "    # Overall scaling\n",
    "    scaling_wt = 2.2\n",
    "\n",
    "    # Raise progress to this exponent\n",
    "    progress_power = 2\n",
    "\n",
    "    # Logistic function parameters\n",
    "    # https://en.wikipedia.org/wiki/Logistic_function\n",
    "    # for following center\n",
    "    k = 8  # steepness\n",
    "    zone_width = 0.7  # normalized to track_width so 1.0 is at edge of track\n",
    "\n",
    "    # logistic function for centerline\n",
    "    x0 = zone_width * track_width / 2\n",
    "    centreline_reward = 1 - 1 / (\n",
    "        1 + const_e ** (k * (x0 - distance_from_center)))\n",
    "    # never zero\n",
    "    centreline_reward = max(0.001, centreline_reward)\n",
    "\n",
    "    # progress in metres per step\n",
    "    metres_per_step = 0.1 * speed  # default\n",
    "    steps_in_history = [i for i in range(nsteps - 10, nsteps)\n",
    "                        if i in history]\n",
    "    if any(not history[i]['all_wheels_on_track'] for i in steps_in_history):\n",
    "        # went off the track\n",
    "        metres_per_step = 0.001\n",
    "    else:\n",
    "        for i in steps_in_history:\n",
    "            metres_per_step = (\n",
    "                progress - history[i]['progress']\n",
    "            ) * track_length / 100 / (nsteps - i)\n",
    "            break\n",
    "    # never zero\n",
    "    metres_per_step = max(0.001, metres_per_step)\n",
    "    # approx reward = 1 at speed of 4 m/s\n",
    "    progress_per_step_reward = 2.5 * metres_per_step\n",
    "\n",
    "    # Non-linear so more progress is rewarded\n",
    "    return scaling_wt * centreline_reward \\\n",
    "        * progress_per_step_reward ** progress_power\n"
   ]
  },
  {
   "cell_type": "code",
   "execution_count": 3,
   "id": "6ba6ceeb",
   "metadata": {},
   "outputs": [],
   "source": [
    "def plot_param(xmin, xmax, const_params, param_to_plot, reward_func):\n",
    "    '''\n",
    "    Plot output of the reward function by varying a single input parameter.\n",
    "    \n",
    "    xmin, xmax: range of input\n",
    "    const_params: dict of values defining params to keep constant\n",
    "    param_to_plot: name of parameter to plot\n",
    "    reward_func: reward function matching standard deepracer signature\n",
    "    '''\n",
    "    x = list(np.linspace(xmin, xmax, num=40, dtype='O'))\n",
    "    y = [\n",
    "        reward_function({\n",
    "            **const_params,\n",
    "            param_to_plot: x_val\n",
    "        })\n",
    "        for x_val in x\n",
    "    ]\n",
    "    plt.figure()\n",
    "    plt.plot(x, y, 'o')\n",
    "    plt.grid()\n",
    "    plt.show()"
   ]
  },
  {
   "cell_type": "code",
   "execution_count": 4,
   "id": "7c14f21e",
   "metadata": {},
   "outputs": [
    {
     "data": {
      "image/png": "[encoded data removed]",
      "text/plain": [
       "<Figure size 640x480 with 1 Axes>"
      ]
     },
     "metadata": {},
     "output_type": "display_data"
    }
   ],
   "source": [
    "plot_param(\n",
    "    0,\n",
    "    2.2,\n",
    "    const_params={'track_width': 4.0, 'progress': 50.0, 'steps': 250,\n",
    "                  'track_length': 50, 'all_wheels_on_track': True,\n",
    "                  'speed': 4.0},\n",
    "    param_to_plot='distance_from_center',\n",
    "    reward_func=reward_function\n",
    ")"
   ]
  },
  {
   "cell_type": "code",
   "execution_count": 5,
   "id": "f719fc45",
   "metadata": {},
   "outputs": [
    {
     "data": {
      "image/png": "[encoded data removed]",
      "text/plain": [
       "<Figure size 640x480 with 1 Axes>"
      ]
     },
     "metadata": {},
     "output_type": "display_data"
    }
   ],
   "source": [
    "const_params={'track_width': 4.0, 'distance_from_center': 0.1,\n",
    "              'track_length': 50, 'all_wheels_on_track': True,\n",
    "              'speed': 2}\n",
    "steps = list(range(20))\n",
    "y = [\n",
    "    reward_function({\n",
    "        **const_params,\n",
    "        'progress': s**1.1 * 0.2 * 100 / 50,\n",
    "        'steps': s,\n",
    "    })\n",
    "    for s in steps\n",
    "]\n",
    "plt.figure()\n",
    "plt.plot(steps, y, 'o')\n",
    "plt.grid()\n",
    "plt.show()"
   ]
  },
  {
   "cell_type": "code",
   "execution_count": 6,
   "id": "3f4e12e1",
   "metadata": {},
   "outputs": [
    {
     "data": {
      "image/png": "[encoded data removed]",
      "text/plain": [
       "<Figure size 640x480 with 1 Axes>"
      ]
     },
     "metadata": {},
     "output_type": "display_data"
    }
   ],
   "source": [
    "plot_param(\n",
    "    0,\n",
    "    6,\n",
    "    const_params={'track_width': 4.0, 'distance_from_center': 0.1,\n",
    "                  'track_length': 50, 'all_wheels_on_track': True,\n",
    "                  'speed': 2.0, 'steps': 15},\n",
    "    param_to_plot='progress',\n",
    "    reward_func=reward_function\n",
    ")"
   ]
  },
  {
   "cell_type": "code",
   "execution_count": 7,
   "id": "4c116f6b",
   "metadata": {},
   "outputs": [],
   "source": [
    "# make it go off track\n",
    "for i in range(10, 12):\n",
    "    reward_function({\n",
    "        'track_width': 4.0, 'distance_from_center': 0.1,\n",
    "        'track_length': 50, 'all_wheels_on_track': False,\n",
    "        'speed': 2.0, 'steps': i, 'progress': 3\n",
    "    })"
   ]
  }
 ],
 "metadata": {
  "kernelspec": {
   "display_name": "Python 3 (ipykernel)",
   "language": "python",
   "name": "python3"
  },
  "language_info": {
   "codemirror_mode": {
    "name": "ipython",
    "version": 3
   },
   "file_extension": ".py",
   "mimetype": "text/x-python",
   "name": "python",
   "nbconvert_exporter": "python",
   "pygments_lexer": "ipython3",
   "version": "3.11.7"
  }
 },
 "nbformat": 4,
 "nbformat_minor": 5
}
