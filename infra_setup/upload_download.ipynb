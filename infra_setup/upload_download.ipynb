{
 "cells": [
  {
   "cell_type": "code",
   "execution_count": 1,
   "id": "5037cc91",
   "metadata": {
    "scrolled": true
   },
   "outputs": [],
   "source": [
    "import boto3\n",
    "from pathlib import Path"
   ]
  },
  {
   "cell_type": "code",
   "execution_count": 2,
   "id": "dffaeaf7",
   "metadata": {
    "scrolled": true
   },
   "outputs": [],
   "source": [
    "TRAINING_BUCKET = 'markpett-training'"
   ]
  },
  {
   "cell_type": "code",
   "execution_count": 3,
   "id": "343cdcdb",
   "metadata": {
    "scrolled": true
   },
   "outputs": [
    {
     "data": {
      "text/plain": [
       "[s3.ObjectSummary(bucket_name='markpett-training', key='custom_files/hyperparameters.json'),\n",
       " s3.ObjectSummary(bucket_name='markpett-training', key='custom_files/model_metadata.json'),\n",
       " s3.ObjectSummary(bucket_name='markpett-training', key='custom_files/reward_function.py')]"
      ]
     },
     "execution_count": 3,
     "metadata": {},
     "output_type": "execute_result"
    }
   ],
   "source": [
    "s3 = boto3.resource('s3')\n",
    "bucket = s3.Bucket(TRAINING_BUCKET)\n",
    "custom_files = list(bucket.objects.filter(Prefix='custom_files/'))\n",
    "custom_files"
   ]
  },
  {
   "cell_type": "code",
   "execution_count": null,
   "id": "a0363a61",
   "metadata": {},
   "outputs": [],
   "source": [
    "# check size of everything\n",
    "total = sum(a.size for a in bucket.objects.all())\n",
    "print(f'{total / 1024 / 1024:,} MB')"
   ]
  },
  {
   "cell_type": "code",
   "execution_count": 10,
   "id": "38bf224f",
   "metadata": {
    "scrolled": true
   },
   "outputs": [
    {
     "name": "stdout",
     "output_type": "stream",
     "text": [
      "hyperparameters.json\n",
      "model_metadata.json\n",
      "reward_function.py\n"
     ]
    }
   ],
   "source": [
    "# download all files\n",
    "for obj in custom_files:\n",
    "    save_name = Path(obj.key).name\n",
    "    bucket.download_file(obj.key, save_name)\n",
    "    print(save_name)"
   ]
  },
  {
   "cell_type": "code",
   "execution_count": 11,
   "id": "5a12cdeb",
   "metadata": {
    "scrolled": true
   },
   "outputs": [
    {
     "name": "stdout",
     "output_type": "stream",
     "text": [
      "run.env\n",
      "system.env\n"
     ]
    }
   ],
   "source": [
    "# download env files\n",
    "env_files = list(bucket.objects.filter(Prefix='env_files/'))\n",
    "for obj in env_files:\n",
    "    save_name = Path(obj.key).name\n",
    "    bucket.download_file(obj.key, save_name)\n",
    "    print(save_name)"
   ]
  },
  {
   "cell_type": "code",
   "execution_count": 12,
   "id": "f77e939b",
   "metadata": {
    "scrolled": true
   },
   "outputs": [
    {
     "name": "stdout",
     "output_type": "stream",
     "text": [
      "begin_dr.sh\n",
      "can_overwrite_folder.py\n",
      "is_bucket_changing.py\n"
     ]
    }
   ],
   "source": [
    "# download startup_files\n",
    "env_files = list(bucket.objects.filter(Prefix='startup_files/'))\n",
    "for obj in env_files:\n",
    "    save_name = Path(obj.key).name\n",
    "    bucket.download_file(obj.key, save_name)\n",
    "    print(save_name)"
   ]
  },
  {
   "cell_type": "code",
   "execution_count": 7,
   "id": "e794d7ba",
   "metadata": {
    "scrolled": true
   },
   "outputs": [
    {
     "name": "stdout",
     "output_type": "stream",
     "text": [
      "hyperparameters.json\n"
     ]
    }
   ],
   "source": [
    "fname = 'hyperparameters.json'\n",
    "bucket.upload_file(fname, f'custom_files/{fname}')\n",
    "print(fname)"
   ]
  },
  {
   "cell_type": "code",
   "execution_count": null,
   "id": "a70f8dd8",
   "metadata": {
    "scrolled": true
   },
   "outputs": [],
   "source": [
    "fname = 'model_metadata.json'\n",
    "bucket.upload_file(fname, f'custom_files/{fname}')\n",
    "print(fname)"
   ]
  },
  {
   "cell_type": "code",
   "execution_count": 8,
   "id": "b29c94e7",
   "metadata": {
    "scrolled": true
   },
   "outputs": [
    {
     "name": "stdout",
     "output_type": "stream",
     "text": [
      "reward_function.py\n"
     ]
    }
   ],
   "source": [
    "fname = 'reward_function.py'\n",
    "bucket.upload_file(fname, f'custom_files/{fname}')\n",
    "print(fname)"
   ]
  },
  {
   "cell_type": "code",
   "execution_count": 9,
   "id": "0aa81802",
   "metadata": {
    "scrolled": true
   },
   "outputs": [
    {
     "name": "stdout",
     "output_type": "stream",
     "text": [
      "run.env\n"
     ]
    }
   ],
   "source": [
    "fname = 'run.env'\n",
    "bucket.upload_file(fname, f'env_files/{fname}')\n",
    "print(fname)"
   ]
  },
  {
   "cell_type": "code",
   "execution_count": null,
   "id": "675f4a1d",
   "metadata": {
    "scrolled": true
   },
   "outputs": [],
   "source": [
    "fname = 'system.env'\n",
    "bucket.upload_file(fname, f'env_files/{fname}')\n",
    "print(fname)"
   ]
  },
  {
   "cell_type": "code",
   "execution_count": null,
   "id": "a43e1fc6",
   "metadata": {
    "scrolled": true
   },
   "outputs": [],
   "source": [
    "fname = 'begin_dr.sh'\n",
    "bucket.upload_file(fname, f'startup_files/{fname}')\n",
    "print(fname)"
   ]
  },
  {
   "cell_type": "code",
   "execution_count": null,
   "id": "092c9912",
   "metadata": {
    "scrolled": true
   },
   "outputs": [],
   "source": [
    "fname = 'is_bucket_changing.py'\n",
    "bucket.upload_file(fname, f'startup_files/{fname}')\n",
    "print(fname)"
   ]
  },
  {
   "cell_type": "code",
   "execution_count": null,
   "id": "003211f4",
   "metadata": {},
   "outputs": [],
   "source": [
    "fname = 'can_overwrite_folder.py'\n",
    "bucket.upload_file(fname, f'startup_files/{fname}')\n",
    "print(fname)"
   ]
  },
  {
   "cell_type": "code",
   "execution_count": null,
   "id": "fe6cb0fd",
   "metadata": {
    "scrolled": true
   },
   "outputs": [],
   "source": [
    "import argparse\n",
    "import boto3\n",
    "import os\n",
    "import subprocess\n",
    "from time import sleep\n",
    "from traceback import print_exc\n",
    "from typing import cast, NoReturn\n",
    "\n",
    "DR_LOCAL_S3_BUCKET = 'markpett-training'\n",
    "DR_LOCAL_S3_MODEL_PREFIX = '07-dummy-test'\n",
    "DR_LOCAL_S3_METRICS_PREFIX = '07-dummy-test/metrics'\n",
    "# DR_LOCAL_S3_BUCKET = os.getenv('DR_LOCAL_S3_BUCKET')\n",
    "# DR_LOCAL_S3_METRICS_PREFIX = os.getenv('DR_LOCAL_S3_METRICS_PREFIX')\n",
    "\n",
    "\n",
    "def get_interval() -> float:\n",
    "    parser = argparse.ArgumentParser(\n",
    "        description='keep checking s3 bucket at given interval')\n",
    "    parser.add_argument(\n",
    "        'interval_secs', type=float,\n",
    "        help='interval seconds as float')\n",
    "    args = parser.parse_args()\n",
    "    return cast(float, args.interval_secs)\n",
    "\n",
    "\n",
    "def keep_checking_metrics(interval_secs: float) -> NoReturn:\n",
    "    prev_size = 0\n",
    "    obj_name = None\n",
    "    while True:\n",
    "        sleep(interval_secs)\n",
    "        try:\n",
    "            if DR_LOCAL_S3_BUCKET is None \\\n",
    "                    or DR_LOCAL_S3_METRICS_PREFIX is None:\n",
    "                print('Missing environment vars: DR_LOCAL_S3_BUCKET'\n",
    "                      + ', DR_LOCAL_S3_METRICS_PREFIX')\n",
    "                reboot_system()\n",
    "            else:\n",
    "                obj_name = f'{DR_LOCAL_S3_METRICS_PREFIX}/TrainingMetrics.json'\n",
    "                size = get_obj_size(obj_name)\n",
    "                if size == prev_size:\n",
    "                    print('No change in size of object: '\n",
    "                          + f'S3://{DR_LOCAL_S3_BUCKET}/{obj_name}')\n",
    "                    print(f'Elapsed {interval_secs} secs: '\n",
    "                          + f'prev_size={prev_size}, size_now={size}')\n",
    "                    reboot_system()\n",
    "                prev_size = size\n",
    "        except Exception:\n",
    "            print_exc()\n",
    "            reboot_system()\n",
    "\n",
    "\n",
    "def get_obj_size(key: str) -> int:\n",
    "    s3 = boto3.resource('s3')\n",
    "    bucket = s3.Bucket(DR_LOCAL_S3_BUCKET)\n",
    "    obj = bucket.Object(key)\n",
    "    return obj.content_length\n",
    "\n",
    "\n",
    "def reboot_system() -> None:\n",
    "    print('Rebooting')\n",
    "    # subprocess.run(['sudo', 'shutdown', '-r', '1'])\n",
    "\n",
    "\n",
    "def main() -> None:\n",
    "    # interval_secs = get_interval()\n",
    "    interval_secs = 1.0\n",
    "    print(f'checking s3 bucket at {interval_secs} second intervals')\n",
    "    keep_checking_metrics(interval_secs)\n",
    "\n",
    "\n",
    "if __name__ == '__main__':\n",
    "    main()\n"
   ]
  },
  {
   "cell_type": "code",
   "execution_count": null,
   "id": "e1ddf640",
   "metadata": {},
   "outputs": [],
   "source": [
    "import boto3\n",
    "import os\n",
    "\n",
    "DR_LOCAL_S3_BUCKET = 'markpett-training'\n",
    "DR_LOCAL_S3_MODEL_PREFIX = '10c-SquaredRoss-1'\n",
    "DR_LOCAL_S3_METRICS_PREFIX = '10c-SquaredRoss-1/metrics'\n",
    "\n",
    "# DR_LOCAL_S3_BUCKET = os.getenv('DR_LOCAL_S3_BUCKET')\n",
    "# DR_LOCAL_S3_MODEL_PREFIX = os.getenv('DR_LOCAL_S3_MODEL_PREFIX')\n",
    "# DR_LOCAL_S3_METRICS_PREFIX = os.getenv('DR_LOCAL_S3_METRICS_PREFIX')\n",
    "\n",
    "\n",
    "def obj_exists(bucket: str, prefix: str, key: str) -> bool:\n",
    "    s3 = boto3.resource('s3')\n",
    "    resource = s3.Bucket(bucket)\n",
    "    objs = list(resource.objects.filter(Prefix=prefix))\n",
    "    return key in [x.key for x in objs]\n",
    "\n",
    "\n",
    "def is_metric_present() -> bool:\n",
    "    return obj_exists(\n",
    "        DR_LOCAL_S3_BUCKET,\n",
    "        DR_LOCAL_S3_MODEL_PREFIX,\n",
    "        f'{DR_LOCAL_S3_METRICS_PREFIX}/TrainingMetrics.json'\n",
    "    )\n",
    "\n",
    "\n",
    "def main() -> None:\n",
    "    '''\n",
    "    Prints \"overwrite\" to the console if the folder is safe to overwrite.\n",
    "    Notionally, this is if not any exceptions were thrown when reading\n",
    "    the folder, and that the metrics file is not present in the folder.\n",
    "    '''\n",
    "    if not is_metric_present():\n",
    "        print('overwrite', end='')\n",
    "\n",
    "\n",
    "if __name__ == '__main__':\n",
    "    main()\n"
   ]
  },
  {
   "cell_type": "code",
   "execution_count": null,
   "id": "a90ead38",
   "metadata": {
    "scrolled": true
   },
   "outputs": [],
   "source": [
    "##########\n",
    "\n",
    "# run script as different user\n",
    "runuser --login ubuntu << 'EOF'\n",
    "\n",
    "cd /home/ubuntu\n",
    "source .profile\n",
    "\n",
    "# Installing packages\n",
    "sudo apt install --no-install-recommends -y jq awscli python3-boto3\n",
    "\n",
    "# include net.ipv4.vs.xxxxxx points\n",
    "sudo bash -c 'echo ip_vs >> /etc/modules-load.d/modules.conf'\n",
    "\n",
    "# Installing Docker\n",
    "sudo apt install -y --no-install-recommends docker.io docker-buildx docker-compose-v2\n",
    "sudo systemctl enable docker\n",
    "sudo systemctl restart docker\n",
    "\n",
    "# allow docker access\n",
    "sudo usermod -a -G docker ubuntu\n",
    "\n",
    "EOF\n",
    "\n",
    "\n",
    "# run script as different user\n",
    "runuser --login ubuntu << 'EOF'\n",
    "\n",
    "cd /home/ubuntu\n",
    "source .profile\n",
    "\n",
    "git clone -b {{ versionTag }} https://github.com/aws-deepracer-community/deepracer-for-cloud.git\n",
    "\n",
    "cd deepracer-for-cloud/bin\n",
    "./init.sh -c aws -a cpu -s compose\n",
    "\n",
    "cd /home/ubuntu\n",
    "\n",
    "cat << 'EOFB' > do_startup.sh\n",
    "#!/bin/bash\n",
    "cd /home/ubuntu\n",
    "source .profile\n",
    "aws s3 cp s3://markpett-training/startup_files/begin_dr.sh begin_dr.sh\n",
    "bash begin_dr.sh\n",
    "EOFB\n",
    "\n",
    "chmod u+x do_startup.sh\n",
    "\n",
    "cat << 'EOFB' > my_crontab\n",
    "SHELL=/bin/bash\n",
    "@reboot /home/ubuntu/do_startup.sh\n",
    "EOFB\n",
    "\n",
    "crontab -u ubuntu my_crontab\n",
    "\n",
    "EOF\n"
   ]
  }
 ],
 "metadata": {
  "kernelspec": {
   "display_name": "conda_python3",
   "language": "python",
   "name": "conda_python3"
  },
  "language_info": {
   "codemirror_mode": {
    "name": "ipython",
    "version": 3
   },
   "file_extension": ".py",
   "mimetype": "text/x-python",
   "name": "python",
   "nbconvert_exporter": "python",
   "pygments_lexer": "ipython3",
   "version": "3.10.14"
  }
 },
 "nbformat": 4,
 "nbformat_minor": 5
}
